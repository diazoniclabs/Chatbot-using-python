{
  "nbformat": 4,
  "nbformat_minor": 0,
  "metadata": {
    "colab": {
      "name": "Telegram Deployment.ipynb",
      "provenance": [],
      "collapsed_sections": [],
      "authorship_tag": "ABX9TyOUVUwomGcssAOtLEwWF+UW",
      "include_colab_link": true
    },
    "kernelspec": {
      "name": "python3",
      "display_name": "Python 3"
    },
    "language_info": {
      "name": "python"
    }
  },
  "cells": [
    {
      "cell_type": "markdown",
      "metadata": {
        "id": "view-in-github",
        "colab_type": "text"
      },
      "source": [
        "<a href=\"https://colab.research.google.com/github/diazoniclabs/Chatbot-using-python/blob/main/Telegram_Deployment.ipynb\" target=\"_parent\"><img src=\"https://colab.research.google.com/assets/colab-badge.svg\" alt=\"Open In Colab\"/></a>"
      ]
    },
    {
      "cell_type": "code",
      "source": [
        "import joblib\n",
        "n = joblib.load('model')\n",
        "n.predict([[5]])[0]"
      ],
      "metadata": {
        "colab": {
          "base_uri": "https://localhost:8080/"
        },
        "id": "GNM4PbO_6Ur_",
        "outputId": "f60dadb8-2253-40da-8bb7-d3198d46c574"
      },
      "execution_count": null,
      "outputs": [
        {
          "output_type": "execute_result",
          "data": {
            "text/plain": [
              "73042.01180594407"
            ]
          },
          "metadata": {},
          "execution_count": 1
        }
      ]
    },
    {
      "cell_type": "code",
      "metadata": {
        "id": "E_dpA4E8N-4w",
        "colab": {
          "base_uri": "https://localhost:8080/"
        },
        "outputId": "9b76dab4-a2f2-455b-fa02-53c874cd7cc3"
      },
      "source": [
        "pip install python-telegram-bot==13.0 --quiet"
      ],
      "execution_count": null,
      "outputs": [
        {
          "output_type": "stream",
          "name": "stdout",
          "text": [
            "\u001b[K     |████████████████████████████████| 404 kB 5.4 MB/s \n",
            "\u001b[K     |████████████████████████████████| 58 kB 6.6 MB/s \n",
            "\u001b[K     |████████████████████████████████| 4.1 MB 78.3 MB/s \n",
            "\u001b[?25h"
          ]
        }
      ]
    },
    {
      "cell_type": "code",
      "metadata": {
        "id": "Ve0tSCFfP-sR"
      },
      "source": [
        "from telegram.ext import Updater, MessageHandler, Filters\n",
        "import joblib\n",
        "n = joblib.load('model')\n",
        "\n",
        "def main(bot,update):\n",
        "  #msg='Hi, nice to see you!'\n",
        "  #bot.send_message(text=msg)\n",
        "  #chat_id = bot.message.chat_id\n",
        "  #bot.send_message(chat_id=chat_id, text='What is your experience?🔎')\n",
        "  a= bot.message.text.lower()\n",
        "  op = n.predict([[int(a)]])[0]\n",
        "  bot.message.reply_text(f'Salary is {op}')\n",
        "\n",
        "bot_token = '5246214326:AAHVcBTFHVH69WrnGefGiSwYzhb8V2x69xU'\n",
        "u = Updater(bot_token,use_context=True)\n",
        "dp = u.dispatcher\n",
        "dp.add_handler(MessageHandler(Filters.text,main))\n",
        "u.start_polling()\n",
        "u.idle()"
      ],
      "execution_count": null,
      "outputs": []
    },
    {
      "cell_type": "code",
      "source": [
        ""
      ],
      "metadata": {
        "id": "uOYW0vND6Pp8"
      },
      "execution_count": null,
      "outputs": []
    }
  ]
}